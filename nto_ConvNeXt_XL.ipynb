{
  "metadata": {
    "kernelspec": {
      "display_name": "Python 3",
      "name": "python3"
    },
    "language_info": {
      "name": "python",
      "version": "3.10.12",
      "mimetype": "text/x-python",
      "codemirror_mode": {
        "name": "ipython",
        "version": 3
      },
      "pygments_lexer": "ipython3",
      "nbconvert_exporter": "python",
      "file_extension": ".py"
    },
    "kaggle": {
      "accelerator": "gpu",
      "dataSources": [
        {
          "sourceId": 232517577,
          "sourceType": "kernelVersion"
        }
      ],
      "dockerImageVersionId": 30919,
      "isInternetEnabled": true,
      "language": "python",
      "sourceType": "notebook",
      "isGpuEnabled": true
    },
    "colab": {
      "provenance": [],
      "machine_shape": "hm",
      "gpuType": "A100"
    },
    "accelerator": "GPU",
    "widgets": {
      "application/vnd.jupyter.widget-state+json": {
        "6ac18eeab0034b3592b1e3f5ec65958a": {
          "model_module": "@jupyter-widgets/controls",
          "model_name": "HBoxModel",
          "model_module_version": "1.5.0",
          "state": {
            "_dom_classes": [],
            "_model_module": "@jupyter-widgets/controls",
            "_model_module_version": "1.5.0",
            "_model_name": "HBoxModel",
            "_view_count": null,
            "_view_module": "@jupyter-widgets/controls",
            "_view_module_version": "1.5.0",
            "_view_name": "HBoxView",
            "box_style": "",
            "children": [
              "IPY_MODEL_fc61313e8e7a427cb3e159e8977bc72a",
              "IPY_MODEL_6521464b1d3940639e1ea3de9dd18ba2",
              "IPY_MODEL_2d531f23551f4136b5d16e0520b07b38"
            ],
            "layout": "IPY_MODEL_af9cdb557fd7497b9c6599cbb1e4f670"
          }
        },
        "fc61313e8e7a427cb3e159e8977bc72a": {
          "model_module": "@jupyter-widgets/controls",
          "model_name": "HTMLModel",
          "model_module_version": "1.5.0",
          "state": {
            "_dom_classes": [],
            "_model_module": "@jupyter-widgets/controls",
            "_model_module_version": "1.5.0",
            "_model_name": "HTMLModel",
            "_view_count": null,
            "_view_module": "@jupyter-widgets/controls",
            "_view_module_version": "1.5.0",
            "_view_name": "HTMLView",
            "description": "",
            "description_tooltip": null,
            "layout": "IPY_MODEL_26d5479cd3344706b3584c120da88996",
            "placeholder": "​",
            "style": "IPY_MODEL_7ff7cf15f1dc4e5492b2f1fb586f442d",
            "value": "model.safetensors: 100%"
          }
        },
        "6521464b1d3940639e1ea3de9dd18ba2": {
          "model_module": "@jupyter-widgets/controls",
          "model_name": "FloatProgressModel",
          "model_module_version": "1.5.0",
          "state": {
            "_dom_classes": [],
            "_model_module": "@jupyter-widgets/controls",
            "_model_module_version": "1.5.0",
            "_model_name": "FloatProgressModel",
            "_view_count": null,
            "_view_module": "@jupyter-widgets/controls",
            "_view_module_version": "1.5.0",
            "_view_name": "ProgressView",
            "bar_style": "success",
            "description": "",
            "description_tooltip": null,
            "layout": "IPY_MODEL_945b870f132a481ca5dcfa314d768d27",
            "max": 1400822858,
            "min": 0,
            "orientation": "horizontal",
            "style": "IPY_MODEL_6054905148a04442ad8c655b3b17fd39",
            "value": 1400822858
          }
        },
        "2d531f23551f4136b5d16e0520b07b38": {
          "model_module": "@jupyter-widgets/controls",
          "model_name": "HTMLModel",
          "model_module_version": "1.5.0",
          "state": {
            "_dom_classes": [],
            "_model_module": "@jupyter-widgets/controls",
            "_model_module_version": "1.5.0",
            "_model_name": "HTMLModel",
            "_view_count": null,
            "_view_module": "@jupyter-widgets/controls",
            "_view_module_version": "1.5.0",
            "_view_name": "HTMLView",
            "description": "",
            "description_tooltip": null,
            "layout": "IPY_MODEL_5cdb6d93cbcb45418f244cb3a1b413bd",
            "placeholder": "​",
            "style": "IPY_MODEL_a33c5f70e96d40758751afec9a0b430b",
            "value": " 1.40G/1.40G [00:07&lt;00:00, 188MB/s]"
          }
        },
        "af9cdb557fd7497b9c6599cbb1e4f670": {
          "model_module": "@jupyter-widgets/base",
          "model_name": "LayoutModel",
          "model_module_version": "1.2.0",
          "state": {
            "_model_module": "@jupyter-widgets/base",
            "_model_module_version": "1.2.0",
            "_model_name": "LayoutModel",
            "_view_count": null,
            "_view_module": "@jupyter-widgets/base",
            "_view_module_version": "1.2.0",
            "_view_name": "LayoutView",
            "align_content": null,
            "align_items": null,
            "align_self": null,
            "border": null,
            "bottom": null,
            "display": null,
            "flex": null,
            "flex_flow": null,
            "grid_area": null,
            "grid_auto_columns": null,
            "grid_auto_flow": null,
            "grid_auto_rows": null,
            "grid_column": null,
            "grid_gap": null,
            "grid_row": null,
            "grid_template_areas": null,
            "grid_template_columns": null,
            "grid_template_rows": null,
            "height": null,
            "justify_content": null,
            "justify_items": null,
            "left": null,
            "margin": null,
            "max_height": null,
            "max_width": null,
            "min_height": null,
            "min_width": null,
            "object_fit": null,
            "object_position": null,
            "order": null,
            "overflow": null,
            "overflow_x": null,
            "overflow_y": null,
            "padding": null,
            "right": null,
            "top": null,
            "visibility": null,
            "width": null
          }
        },
        "26d5479cd3344706b3584c120da88996": {
          "model_module": "@jupyter-widgets/base",
          "model_name": "LayoutModel",
          "model_module_version": "1.2.0",
          "state": {
            "_model_module": "@jupyter-widgets/base",
            "_model_module_version": "1.2.0",
            "_model_name": "LayoutModel",
            "_view_count": null,
            "_view_module": "@jupyter-widgets/base",
            "_view_module_version": "1.2.0",
            "_view_name": "LayoutView",
            "align_content": null,
            "align_items": null,
            "align_self": null,
            "border": null,
            "bottom": null,
            "display": null,
            "flex": null,
            "flex_flow": null,
            "grid_area": null,
            "grid_auto_columns": null,
            "grid_auto_flow": null,
            "grid_auto_rows": null,
            "grid_column": null,
            "grid_gap": null,
            "grid_row": null,
            "grid_template_areas": null,
            "grid_template_columns": null,
            "grid_template_rows": null,
            "height": null,
            "justify_content": null,
            "justify_items": null,
            "left": null,
            "margin": null,
            "max_height": null,
            "max_width": null,
            "min_height": null,
            "min_width": null,
            "object_fit": null,
            "object_position": null,
            "order": null,
            "overflow": null,
            "overflow_x": null,
            "overflow_y": null,
            "padding": null,
            "right": null,
            "top": null,
            "visibility": null,
            "width": null
          }
        },
        "7ff7cf15f1dc4e5492b2f1fb586f442d": {
          "model_module": "@jupyter-widgets/controls",
          "model_name": "DescriptionStyleModel",
          "model_module_version": "1.5.0",
          "state": {
            "_model_module": "@jupyter-widgets/controls",
            "_model_module_version": "1.5.0",
            "_model_name": "DescriptionStyleModel",
            "_view_count": null,
            "_view_module": "@jupyter-widgets/base",
            "_view_module_version": "1.2.0",
            "_view_name": "StyleView",
            "description_width": ""
          }
        },
        "945b870f132a481ca5dcfa314d768d27": {
          "model_module": "@jupyter-widgets/base",
          "model_name": "LayoutModel",
          "model_module_version": "1.2.0",
          "state": {
            "_model_module": "@jupyter-widgets/base",
            "_model_module_version": "1.2.0",
            "_model_name": "LayoutModel",
            "_view_count": null,
            "_view_module": "@jupyter-widgets/base",
            "_view_module_version": "1.2.0",
            "_view_name": "LayoutView",
            "align_content": null,
            "align_items": null,
            "align_self": null,
            "border": null,
            "bottom": null,
            "display": null,
            "flex": null,
            "flex_flow": null,
            "grid_area": null,
            "grid_auto_columns": null,
            "grid_auto_flow": null,
            "grid_auto_rows": null,
            "grid_column": null,
            "grid_gap": null,
            "grid_row": null,
            "grid_template_areas": null,
            "grid_template_columns": null,
            "grid_template_rows": null,
            "height": null,
            "justify_content": null,
            "justify_items": null,
            "left": null,
            "margin": null,
            "max_height": null,
            "max_width": null,
            "min_height": null,
            "min_width": null,
            "object_fit": null,
            "object_position": null,
            "order": null,
            "overflow": null,
            "overflow_x": null,
            "overflow_y": null,
            "padding": null,
            "right": null,
            "top": null,
            "visibility": null,
            "width": null
          }
        },
        "6054905148a04442ad8c655b3b17fd39": {
          "model_module": "@jupyter-widgets/controls",
          "model_name": "ProgressStyleModel",
          "model_module_version": "1.5.0",
          "state": {
            "_model_module": "@jupyter-widgets/controls",
            "_model_module_version": "1.5.0",
            "_model_name": "ProgressStyleModel",
            "_view_count": null,
            "_view_module": "@jupyter-widgets/base",
            "_view_module_version": "1.2.0",
            "_view_name": "StyleView",
            "bar_color": null,
            "description_width": ""
          }
        },
        "5cdb6d93cbcb45418f244cb3a1b413bd": {
          "model_module": "@jupyter-widgets/base",
          "model_name": "LayoutModel",
          "model_module_version": "1.2.0",
          "state": {
            "_model_module": "@jupyter-widgets/base",
            "_model_module_version": "1.2.0",
            "_model_name": "LayoutModel",
            "_view_count": null,
            "_view_module": "@jupyter-widgets/base",
            "_view_module_version": "1.2.0",
            "_view_name": "LayoutView",
            "align_content": null,
            "align_items": null,
            "align_self": null,
            "border": null,
            "bottom": null,
            "display": null,
            "flex": null,
            "flex_flow": null,
            "grid_area": null,
            "grid_auto_columns": null,
            "grid_auto_flow": null,
            "grid_auto_rows": null,
            "grid_column": null,
            "grid_gap": null,
            "grid_row": null,
            "grid_template_areas": null,
            "grid_template_columns": null,
            "grid_template_rows": null,
            "height": null,
            "justify_content": null,
            "justify_items": null,
            "left": null,
            "margin": null,
            "max_height": null,
            "max_width": null,
            "min_height": null,
            "min_width": null,
            "object_fit": null,
            "object_position": null,
            "order": null,
            "overflow": null,
            "overflow_x": null,
            "overflow_y": null,
            "padding": null,
            "right": null,
            "top": null,
            "visibility": null,
            "width": null
          }
        },
        "a33c5f70e96d40758751afec9a0b430b": {
          "model_module": "@jupyter-widgets/controls",
          "model_name": "DescriptionStyleModel",
          "model_module_version": "1.5.0",
          "state": {
            "_model_module": "@jupyter-widgets/controls",
            "_model_module_version": "1.5.0",
            "_model_name": "DescriptionStyleModel",
            "_view_count": null,
            "_view_module": "@jupyter-widgets/base",
            "_view_module_version": "1.2.0",
            "_view_name": "StyleView",
            "description_width": ""
          }
        }
      }
    }
  },
  "nbformat_minor": 0,
  "nbformat": 4,
  "cells": [
    {
      "cell_type": "code",
      "source": [
        "# Установка необходимых библиотек\n",
        "!pip install git+https://github.com/WildlifeDatasets/wildlife-datasets@develop\n",
        "!pip install git+https://github.com/WildlifeDatasets/wildlife-tools\n",
        "!pip install timm torchvision pandas numpy torch"
      ],
      "metadata": {
        "trusted": true,
        "execution": {
          "iopub.status.busy": "2025-04-07T22:36:12.064226Z",
          "iopub.execute_input": "2025-04-07T22:36:12.064463Z",
          "iopub.status.idle": "2025-04-07T22:36:52.132592Z",
          "shell.execute_reply.started": "2025-04-07T22:36:12.064436Z",
          "shell.execute_reply": "2025-04-07T22:36:52.131533Z"
        },
        "collapsed": true,
        "jupyter": {
          "outputs_hidden": true
        },
        "id": "whTe7xkDv1QF"
      },
      "outputs": [],
      "execution_count": null
    },
    {
      "cell_type": "code",
      "source": [
        "import os\n",
        "import numpy as np\n",
        "import pandas as pd\n",
        "import timm\n",
        "import torchvision.transforms as T\n",
        "from wildlife_datasets.datasets import AnimalCLEF2025, WildlifeDataset\n",
        "from wildlife_tools.features import DeepFeatures\n",
        "from wildlife_tools.similarity import CosineSimilarity\n",
        "from itertools import chain\n",
        "import torch\n",
        "from torch.optim import AdamW\n",
        "from wildlife_tools.data import WildlifeDataset\n",
        "from wildlife_tools.train import ArcFaceLoss, BasicTrainer"
      ],
      "metadata": {
        "id": "pgyVFps1BRxl"
      },
      "execution_count": 2,
      "outputs": []
    },
    {
      "cell_type": "code",
      "source": [
        "!wget https://storage.yandexcloud.net/ds-ods/files/files/a49ec917/train.zip\n",
        "!wget https://storage.yandexcloud.net/ds-ods/files/files/c42aab3c/test.zip\n",
        "!wget https://storage.yandexcloud.net/ds-ods/files/files/2d9be07b/train.csv\n",
        "\n",
        "!unzip -q train.zip\n",
        "!unzip -q test.zip"
      ],
      "metadata": {
        "id": "nyZWZOmIxeg9"
      },
      "execution_count": null,
      "outputs": []
    },
    {
      "cell_type": "code",
      "source": [
        "import pandas as pd\n",
        "# Установка корневой директории\n",
        "root = '/content/'\n",
        "\n",
        "# Чтение метаданных\n",
        "metadata = pd.read_csv(root + 'train.csv')"
      ],
      "metadata": {
        "trusted": true,
        "execution": {
          "iopub.status.busy": "2025-04-07T22:41:46.892639Z",
          "iopub.execute_input": "2025-04-07T22:41:46.892979Z",
          "iopub.status.idle": "2025-04-07T22:41:46.897693Z",
          "shell.execute_reply.started": "2025-04-07T22:41:46.892953Z",
          "shell.execute_reply": "2025-04-07T22:41:46.896886Z"
        },
        "id": "ct9opqLMv1QG"
      },
      "outputs": [],
      "execution_count": 4
    },
    {
      "cell_type": "code",
      "source": [
        "# Определение трансформаций\n",
        "transform = T.Compose([\n",
        "    T.RandomResizedCrop(size=(224, 224), scale=(0.8, 1.0)),  # ConvNeXt-XL принимает вход 224x224\n",
        "    T.RandAugment(num_ops=2, magnitude=15),\n",
        "    T.ToTensor(),\n",
        "    T.Normalize(mean=(0.485, 0.456, 0.406), std=(0.229, 0.224, 0.225)),  # Стандартные значения для ImageNet\n",
        "])"
      ],
      "metadata": {
        "trusted": true,
        "execution": {
          "iopub.status.busy": "2025-04-07T22:50:10.785636Z",
          "iopub.execute_input": "2025-04-07T22:50:10.785968Z",
          "iopub.status.idle": "2025-04-07T22:50:10.790776Z",
          "shell.execute_reply.started": "2025-04-07T22:50:10.785942Z",
          "shell.execute_reply": "2025-04-07T22:50:10.789885Z"
        },
        "id": "UmOtFMz0v1QH"
      },
      "outputs": [],
      "execution_count": 5
    },
    {
      "cell_type": "code",
      "source": [
        "# Создание датасета\n",
        "dataset = WildlifeDataset(\n",
        "    root=root + 'train',\n",
        "    metadata=metadata,\n",
        "    col_label='label',\n",
        "    col_path='file_name',\n",
        "    load_label=True,\n",
        "    transform=transform\n",
        ")"
      ],
      "metadata": {
        "trusted": true,
        "execution": {
          "iopub.status.busy": "2025-04-07T22:50:19.082382Z",
          "iopub.execute_input": "2025-04-07T22:50:19.082724Z",
          "iopub.status.idle": "2025-04-07T22:50:19.088564Z",
          "shell.execute_reply.started": "2025-04-07T22:50:19.082696Z",
          "shell.execute_reply": "2025-04-07T22:50:19.087692Z"
        },
        "id": "X0Yuw9EEv1QH"
      },
      "outputs": [],
      "execution_count": 6
    },
    {
      "cell_type": "code",
      "source": [
        "# Проверка уникальных особей\n",
        "unique_identities = dataset.metadata['label'].unique()\n",
        "print(f\"Количество уникальных особей: {len(unique_identities)}\")"
      ],
      "metadata": {
        "trusted": true,
        "execution": {
          "iopub.status.busy": "2025-04-07T22:42:43.300996Z",
          "iopub.execute_input": "2025-04-07T22:42:43.301312Z",
          "iopub.status.idle": "2025-04-07T22:42:43.307985Z",
          "shell.execute_reply.started": "2025-04-07T22:42:43.301282Z",
          "shell.execute_reply": "2025-04-07T22:42:43.307080Z"
        },
        "id": "e-SaOIfzv1QH",
        "colab": {
          "base_uri": "https://localhost:8080/"
        },
        "outputId": "4e824b3f-c4b2-4bd0-84d3-7f741d49ba79"
      },
      "outputs": [
        {
          "output_type": "stream",
          "name": "stdout",
          "text": [
            "Количество уникальных особей: 93\n"
          ]
        }
      ],
      "execution_count": 7
    },
    {
      "cell_type": "code",
      "source": [
        "# Проверка доступности GPU\n",
        "available_gpus = [torch.cuda.device(i) for i in range(torch.cuda.device_count())]\n",
        "print(f\"Доступные GPU: {available_gpus}\")\n",
        "device = torch.device(\"cuda\" if torch.cuda.is_available() else \"cpu\")\n",
        "print(f\"Используемое устройство: {device}\")"
      ],
      "metadata": {
        "trusted": true,
        "execution": {
          "iopub.status.busy": "2025-04-07T22:42:45.322967Z",
          "iopub.execute_input": "2025-04-07T22:42:45.323312Z",
          "iopub.status.idle": "2025-04-07T22:42:45.506101Z",
          "shell.execute_reply.started": "2025-04-07T22:42:45.323283Z",
          "shell.execute_reply": "2025-04-07T22:42:45.505458Z"
        },
        "id": "bBiYvQXwv1QH",
        "colab": {
          "base_uri": "https://localhost:8080/"
        },
        "outputId": "39e694dc-ae46-4ac2-f49f-ac9494667b4c"
      },
      "outputs": [
        {
          "output_type": "stream",
          "name": "stdout",
          "text": [
            "Доступные GPU: [<torch.cuda.device object at 0x798f7530bd90>]\n",
            "Используемое устройство: cuda\n"
          ]
        }
      ],
      "execution_count": 8
    },
    {
      "cell_type": "code",
      "source": [
        "# Создание модели ConvNeXt-XL\n",
        "backbone = timm.create_model(\n",
        "    'convnext_xlarge',  # Используем ConvNeXt-XL\n",
        "    pretrained=True,    # Загружаем предобученные веса\n",
        "    num_classes=0       # Убираем классификационную голову, оставляем только признаки\n",
        ")"
      ],
      "metadata": {
        "trusted": true,
        "execution": {
          "iopub.status.busy": "2025-04-07T22:43:04.075837Z",
          "iopub.execute_input": "2025-04-07T22:43:04.076160Z",
          "iopub.status.idle": "2025-04-07T22:43:04.105503Z",
          "shell.execute_reply.started": "2025-04-07T22:43:04.076132Z",
          "shell.execute_reply": "2025-04-07T22:43:04.104802Z"
        },
        "colab": {
          "base_uri": "https://localhost:8080/",
          "height": 173,
          "referenced_widgets": [
            "6ac18eeab0034b3592b1e3f5ec65958a",
            "fc61313e8e7a427cb3e159e8977bc72a",
            "6521464b1d3940639e1ea3de9dd18ba2",
            "2d531f23551f4136b5d16e0520b07b38",
            "af9cdb557fd7497b9c6599cbb1e4f670",
            "26d5479cd3344706b3584c120da88996",
            "7ff7cf15f1dc4e5492b2f1fb586f442d",
            "945b870f132a481ca5dcfa314d768d27",
            "6054905148a04442ad8c655b3b17fd39",
            "5cdb6d93cbcb45418f244cb3a1b413bd",
            "a33c5f70e96d40758751afec9a0b430b"
          ]
        },
        "id": "KQU1lnmBv1QI",
        "outputId": "5e29fb8d-9144-42af-a8df-fd851a0ceeef"
      },
      "outputs": [
        {
          "output_type": "stream",
          "name": "stderr",
          "text": [
            "/usr/local/lib/python3.11/dist-packages/huggingface_hub/utils/_auth.py:94: UserWarning: \n",
            "The secret `HF_TOKEN` does not exist in your Colab secrets.\n",
            "To authenticate with the Hugging Face Hub, create a token in your settings tab (https://huggingface.co/settings/tokens), set it as secret in your Google Colab and restart your session.\n",
            "You will be able to reuse this secret in all of your notebooks.\n",
            "Please note that authentication is recommended but still optional to access public models or datasets.\n",
            "  warnings.warn(\n"
          ]
        },
        {
          "output_type": "display_data",
          "data": {
            "text/plain": [
              "model.safetensors:   0%|          | 0.00/1.40G [00:00<?, ?B/s]"
            ],
            "application/vnd.jupyter.widget-view+json": {
              "version_major": 2,
              "version_minor": 0,
              "model_id": "6ac18eeab0034b3592b1e3f5ec65958a"
            }
          },
          "metadata": {}
        }
      ],
      "execution_count": 9
    },
    {
      "cell_type": "code",
      "source": [
        "# Определение размера эмбеддингов\n",
        "with torch.no_grad():\n",
        "    dummy_input = torch.randn(1, 3, 224, 224)  # Входной размер для ConvNeXt-XL\n",
        "    embedding_size = backbone(dummy_input).shape[1]\n",
        "    print(f\"Размер эмбеддинга: {embedding_size}\")\n",
        "\n",
        "# Определение ArcFace Loss\n",
        "objective = ArcFaceLoss(\n",
        "    num_classes=dataset.num_classes,\n",
        "    embedding_size=embedding_size,\n",
        "    margin=0.5,\n",
        "    scale=64\n",
        ")\n",
        "\n",
        "\n",
        "# Оптимизатор и шедулер\n",
        "params = chain(backbone.parameters(), objective.parameters())\n",
        "optimizer = AdamW(params=params, lr=0.001)\n",
        "min_lr = optimizer.defaults.get(\"lr\") * 1e-3\n",
        "scheduler = torch.optim.lr_scheduler.CosineAnnealingLR(optimizer, T_max=100, eta_min=min_lr)\n",
        "\n",
        "\n",
        "# Настройка обучения\n",
        "trainer = BasicTrainer(\n",
        "    dataset=dataset,\n",
        "    model=backbone,\n",
        "    device=device,  # Используем устройство (GPU или CPU)\n",
        "    objective=objective,\n",
        "    optimizer=optimizer,\n",
        "    scheduler=scheduler,\n",
        "    batch_size=16,\n",
        "    accumulation_steps=8,\n",
        "    num_workers=2,\n",
        "    epochs=30,\n",
        ")\n",
        "\n",
        "# Запуск обучения\n",
        "trainer.train()"
      ],
      "metadata": {
        "trusted": true,
        "execution": {
          "iopub.status.busy": "2025-04-07T23:00:50.198690Z",
          "iopub.execute_input": "2025-04-07T23:00:50.199035Z"
        },
        "id": "FPkK-xaYv1QI"
      },
      "outputs": [],
      "execution_count": null
    },
    {
      "cell_type": "code",
      "source": [
        "# Сохранение модели после обучения\n",
        "model_path = \"convnext_xl_model.pth\"\n",
        "torch.save(backbone.state_dict(), model_path)\n",
        "print(f\"Модель сохранена в {model_path}\")\n",
        "\n",
        "# (Опционально) Сохранение состояния оптимизатора и ArcFaceLoss\n",
        "checkpoint = {\n",
        "    'backbone_state_dict': backbone.state_dict(),\n",
        "    'objective_state_dict': objective.state_dict(),\n",
        "    'optimizer_state_dict': optimizer.state_dict(),\n",
        "    'epoch': trainer.epochs  # Сохраняем количество эпох\n",
        "}\n",
        "checkpoint_path = \"convnext_xl_checkpoint.pth\"\n",
        "torch.save(checkpoint, checkpoint_path)\n",
        "print(f\"Полный чекпоинт сохранен в {checkpoint_path}\")"
      ],
      "metadata": {
        "colab": {
          "base_uri": "https://localhost:8080/"
        },
        "id": "IKSLIz9kIRex",
        "outputId": "1405c2e0-20c3-4bc2-abd7-00d71b39f017"
      },
      "execution_count": null,
      "outputs": [
        {
          "output_type": "stream",
          "name": "stdout",
          "text": [
            "Модель сохранена в /content/swin_large_arcface_model.pth\n"
          ]
        }
      ]
    },
    {
      "cell_type": "code",
      "source": [
        "# Загрузка модели из файла\n",
        "\n",
        "# Создание модели с той же архитектурой\n",
        "loaded_backbone = timm.create_model(\n",
        "    'convnext_xlarge',\n",
        "    pretrained=False,  # Не загружаем предобученные веса, так как используем свои\n",
        "    num_classes=0\n",
        ")\n",
        "\n",
        "# Загрузка весов модели\n",
        "model_path = \"convnext_xl_model.pth\"\n",
        "loaded_backbone.load_state_dict(torch.load(model_path))\n",
        "loaded_backbone.eval()  # Переводим в режим оценки\n",
        "print(f\"Модель загружена из {model_path}\")\n",
        "\n",
        "# (Опционально) Загрузка полного чекпоинта\n",
        "checkpoint_path = \"convnext_xl_checkpoint.pth\"\n",
        "checkpoint = torch.load(checkpoint_path)\n",
        "\n",
        "# Восстановление backbone\n",
        "loaded_backbone.load_state_dict(checkpoint['backbone_state_dict'])\n",
        "loaded_backbone.eval()\n",
        "\n",
        "# Восстановление ArcFaceLoss\n",
        "loaded_objective = ArcFaceLoss(\n",
        "    num_classes=dataset.num_classes,\n",
        "    embedding_size=embedding_size,\n",
        "    margin=0.5,\n",
        "    scale=64\n",
        ")\n",
        "loaded_objective.load_state_dict(checkpoint['objective_state_dict'])\n",
        "\n",
        "# Восстановление оптимизатора\n",
        "loaded_optimizer = AdamW(params=chain(loaded_backbone.parameters(), loaded_objective.parameters()), lr=0.001)\n",
        "loaded_optimizer.load_state_dict(checkpoint['optimizer_state_dict'])\n",
        "\n",
        "print(f\"Чекпоинт загружен из {checkpoint_path}, эпоха: {checkpoint['epoch']}\")\n",
        "\n"
      ],
      "metadata": {
        "id": "inH2zJwYFrgs"
      },
      "execution_count": null,
      "outputs": []
    }
  ]
}